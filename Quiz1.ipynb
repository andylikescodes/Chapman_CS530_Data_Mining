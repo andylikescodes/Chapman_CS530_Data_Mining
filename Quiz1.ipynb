{
  "nbformat": 4,
  "nbformat_minor": 0,
  "metadata": {
    "colab": {
      "name": "Quiz1.ipynb",
      "provenance": [],
      "collapsed_sections": [],
      "authorship_tag": "ABX9TyO9QI1S4jp7wr/RlXKKktyC",
      "include_colab_link": true
    },
    "kernelspec": {
      "name": "python3",
      "display_name": "Python 3"
    }
  },
  "cells": [
    {
      "cell_type": "markdown",
      "metadata": {
        "id": "view-in-github",
        "colab_type": "text"
      },
      "source": [
        "<a href=\"https://colab.research.google.com/github/andylikescodes/Chapman_CS530_Data_Mining/blob/main/Quiz1.ipynb\" target=\"_parent\"><img src=\"https://colab.research.google.com/assets/colab-badge.svg\" alt=\"Open In Colab\"/></a>"
      ]
    },
    {
      "cell_type": "markdown",
      "metadata": {
        "id": "ZXBYBLU-Ol7N"
      },
      "source": [
        "# Question 1: \r\n",
        "\r\n",
        "\r\n"
      ]
    },
    {
      "cell_type": "code",
      "metadata": {
        "id": "Rt4OE7UIO2Ji"
      },
      "source": [
        "import numpy as np\r\n",
        "import pandas as pd"
      ],
      "execution_count": 1,
      "outputs": []
    },
    {
      "cell_type": "code",
      "metadata": {
        "id": "UC2BOuZ4OgoP"
      },
      "source": [
        "list_1 = [2, 3, 4, 5, 6, np.nan, 9, 27, np.nan, np.nan, 9, 1, 3, 5, 3, 6]\r\n",
        "list_2 = [4, 5, np.nan, 10, 11, 7, 3, 4, 4, 6, np.nan, 10, 2, 3, 6, 5]"
      ],
      "execution_count": 3,
      "outputs": []
    },
    {
      "cell_type": "markdown",
      "metadata": {
        "id": "Hi7K3Vi0VB5n"
      },
      "source": [
        "Do the following using Numpy\r\n",
        "* Fill in the NA values for the two lists with random integers between 1-10"
      ]
    },
    {
      "cell_type": "code",
      "metadata": {
        "id": "jGKPkvhNRh0E"
      },
      "source": [
        "# Your answer goes here. Create as many blocks as necessary"
      ],
      "execution_count": null,
      "outputs": []
    },
    {
      "cell_type": "markdown",
      "metadata": {
        "id": "S8PSnqesUwlW"
      },
      "source": [
        "* Find the indexes for the even number for list_2."
      ]
    },
    {
      "cell_type": "code",
      "metadata": {
        "id": "2PhsSmpFUtVV"
      },
      "source": [
        "# Your answer goes here. Create as many blocks as necessary"
      ],
      "execution_count": null,
      "outputs": []
    },
    {
      "cell_type": "markdown",
      "metadata": {
        "id": "LwWecU0rUz_W"
      },
      "source": [
        "* Get the union and intersections of the two lists."
      ]
    },
    {
      "cell_type": "code",
      "metadata": {
        "id": "9_Pm4f5eUtYL"
      },
      "source": [
        "# Your answer goes here. Create as many blocks as necessary"
      ],
      "execution_count": null,
      "outputs": []
    },
    {
      "cell_type": "markdown",
      "metadata": {
        "id": "RSOUMwwRU36H"
      },
      "source": [
        "* Convert the two lists into two 4x4 matrixes, apply matrix multiplication, and find the eigenvalues and eigenvectors for the matrix."
      ]
    },
    {
      "cell_type": "code",
      "metadata": {
        "id": "3ZM2Bv7sUtd8"
      },
      "source": [
        "# Your answer goes here. Create as many blocks as necessary"
      ],
      "execution_count": null,
      "outputs": []
    },
    {
      "cell_type": "markdown",
      "metadata": {
        "id": "sHB-jcXmRDj_"
      },
      "source": [
        "#Question 2: "
      ]
    },
    {
      "cell_type": "code",
      "metadata": {
        "id": "7JH41yzaRLyG"
      },
      "source": [
        "df = pd.DataFrame({'list_1': list_1, \r\n",
        "b'list_2': list_2})"
      ],
      "execution_count": 6,
      "outputs": []
    },
    {
      "cell_type": "markdown",
      "metadata": {
        "id": "BnB-ih_AVOTN"
      },
      "source": [
        "Do the following using Pandas\r\n",
        "* Count the number of NAs in column 'list_1'.\r\n"
      ]
    },
    {
      "cell_type": "code",
      "metadata": {
        "id": "_X6DgdetRTYY"
      },
      "source": [
        "# Your answer goes here. Create as many blocks as necessary"
      ],
      "execution_count": null,
      "outputs": []
    },
    {
      "cell_type": "markdown",
      "metadata": {
        "id": "N55i-cFWVQ9X"
      },
      "source": [
        "* Fill in the NA values with the mode of each column\r\n",
        " "
      ]
    },
    {
      "cell_type": "code",
      "metadata": {
        "id": "pNmuZvbvVSVl"
      },
      "source": [
        "# Your answer goes here. Create as many blocks as necessary"
      ],
      "execution_count": null,
      "outputs": []
    },
    {
      "cell_type": "markdown",
      "metadata": {
        "id": "cvWzJfLiVTy4"
      },
      "source": [
        "* Change the value of index [8, 'list_2'] to 100\r\n"
      ]
    },
    {
      "cell_type": "code",
      "metadata": {
        "id": "ubSLB2d4VWrv"
      },
      "source": [
        "# Your answer goes here. Create as many blocks as necessary"
      ],
      "execution_count": null,
      "outputs": []
    },
    {
      "cell_type": "markdown",
      "metadata": {
        "id": "cMbdskj6VXHP"
      },
      "source": [
        "* Create a new column called 'add' and assigned the values of (2*list_1 + list_2) to it.\r\n"
      ]
    },
    {
      "cell_type": "code",
      "metadata": {
        "id": "6MxhqCbGVYXe"
      },
      "source": [
        "# Your answer goes here. Create as many blocks as necessary"
      ],
      "execution_count": null,
      "outputs": []
    },
    {
      "cell_type": "markdown",
      "metadata": {
        "id": "Qu0faejIVYsQ"
      },
      "source": [
        "* Create a new column called 'compare', compare the values in each row between list_1 and list_2. If value in list_1 is greater than or equal to list_2, output 'list 1 >= list 2', Otherwise output 'list 1 < list 2'. "
      ]
    },
    {
      "cell_type": "code",
      "metadata": {
        "id": "YMqL1uneVaOs"
      },
      "source": [
        "# Your answer goes here. Create as many blocks as necessary"
      ],
      "execution_count": null,
      "outputs": []
    }
  ]
}