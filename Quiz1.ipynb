{
  "nbformat": 4,
  "nbformat_minor": 0,
  "metadata": {
    "colab": {
      "name": "Quiz1.ipynb",
      "provenance": [],
      "collapsed_sections": [],
      "include_colab_link": true
    },
    "kernelspec": {
      "name": "python3",
      "display_name": "Python 3"
    }
  },
  "cells": [
    {
      "cell_type": "markdown",
      "metadata": {
        "id": "view-in-github",
        "colab_type": "text"
      },
      "source": [
        "<a href=\"https://colab.research.google.com/github/andylikescodes/Chapman_CS530_Data_Mining/blob/main/Quiz1.ipynb\" target=\"_parent\"><img src=\"https://colab.research.google.com/assets/colab-badge.svg\" alt=\"Open In Colab\"/></a>"
      ]
    },
    {
      "cell_type": "markdown",
      "metadata": {
        "id": "ZXBYBLU-Ol7N"
      },
      "source": [
        "# CS530 Quiz1\r\n",
        "\r\n",
        "\r\n"
      ]
    },
    {
      "cell_type": "markdown",
      "metadata": {
        "id": "xBYRf0vpFvRP"
      },
      "source": [
        "## Question 1: "
      ]
    },
    {
      "cell_type": "code",
      "metadata": {
        "id": "Rt4OE7UIO2Ji"
      },
      "source": [
        "import numpy as np\r\n",
        "import pandas as pd"
      ],
      "execution_count": null,
      "outputs": []
    },
    {
      "cell_type": "code",
      "metadata": {
        "id": "UC2BOuZ4OgoP"
      },
      "source": [
        "list_1 = [2, 3, 4, 5, 6, np.nan, 9, 27, np.nan, np.nan, 9, 1, 3, 5, 3, 6]\r\n",
        "list_2 = [4, 5, np.nan, 10, 11, 7, 3, 4, 4, 6, np.nan, 10, 2, 3, 6, 5]"
      ],
      "execution_count": null,
      "outputs": []
    },
    {
      "cell_type": "markdown",
      "metadata": {
        "id": "Hi7K3Vi0VB5n"
      },
      "source": [
        "Do the following using Numpy\r\n",
        "* Fill in the NA values for the two lists with random integers between 1-10"
      ]
    },
    {
      "cell_type": "code",
      "metadata": {
        "id": "jGKPkvhNRh0E"
      },
      "source": [
        "# Your answer goes here. Create as many blocks as necessary"
      ],
      "execution_count": null,
      "outputs": []
    },
    {
      "cell_type": "markdown",
      "metadata": {
        "id": "S8PSnqesUwlW"
      },
      "source": [
        "* Find the indexes for the even number for list_2."
      ]
    },
    {
      "cell_type": "code",
      "metadata": {
        "id": "2PhsSmpFUtVV"
      },
      "source": [
        "# Your answer goes here. Create as many blocks as necessary"
      ],
      "execution_count": null,
      "outputs": []
    },
    {
      "cell_type": "markdown",
      "metadata": {
        "id": "LwWecU0rUz_W"
      },
      "source": [
        "* Get the union and intersections of the two lists."
      ]
    },
    {
      "cell_type": "code",
      "metadata": {
        "id": "9_Pm4f5eUtYL"
      },
      "source": [
        "# Your answer goes here. Create as many blocks as necessary"
      ],
      "execution_count": null,
      "outputs": []
    },
    {
      "cell_type": "markdown",
      "metadata": {
        "id": "RSOUMwwRU36H"
      },
      "source": [
        "* Convert the two lists into two 4x4 matrixes, apply matrix multiplication, and find the eigenvalues and eigenvectors for the matrix."
      ]
    },
    {
      "cell_type": "code",
      "metadata": {
        "id": "3ZM2Bv7sUtd8"
      },
      "source": [
        "# Your answer goes here. Create as many blocks as necessary"
      ],
      "execution_count": null,
      "outputs": []
    },
    {
      "cell_type": "markdown",
      "metadata": {
        "id": "sHB-jcXmRDj_"
      },
      "source": [
        "## Question 2: "
      ]
    },
    {
      "cell_type": "markdown",
      "metadata": {
        "id": "BnB-ih_AVOTN"
      },
      "source": [
        "* Load the titanic.csv dataset\r\n",
        "\r\n"
      ]
    },
    {
      "cell_type": "code",
      "metadata": {
        "id": "_X6DgdetRTYY"
      },
      "source": [
        "# Your answer goes here. Create as many blocks as necessary"
      ],
      "execution_count": null,
      "outputs": []
    },
    {
      "cell_type": "markdown",
      "metadata": {
        "id": "N55i-cFWVQ9X"
      },
      "source": [
        "* Print the first 12 rows of the dataset (You should have 11 passengers and the column labels)\r\n",
        " "
      ]
    },
    {
      "cell_type": "code",
      "metadata": {
        "id": "pNmuZvbvVSVl"
      },
      "source": [
        "# Your answer goes here. Create as many blocks as necessary"
      ],
      "execution_count": null,
      "outputs": []
    },
    {
      "cell_type": "markdown",
      "metadata": {
        "id": "cvWzJfLiVTy4"
      },
      "source": [
        "*  PRINT the shape of the dataset in the line below (Copied/Pasted answers will NOT be accepted)\r\n"
      ]
    },
    {
      "cell_type": "code",
      "metadata": {
        "id": "ubSLB2d4VWrv"
      },
      "source": [
        "print(\"The shape of the dataset is: \", *insert code here* )"
      ],
      "execution_count": null,
      "outputs": []
    },
    {
      "cell_type": "markdown",
      "metadata": {
        "id": "cMbdskj6VXHP"
      },
      "source": [
        "* PRINT the column names in the line below (Copied/Pasted answers will NOT be accepted)\r\n"
      ]
    },
    {
      "cell_type": "code",
      "metadata": {
        "id": "6MxhqCbGVYXe"
      },
      "source": [
        "print(\"The columns in the titanic dataset are:  \", *insert code here* )"
      ],
      "execution_count": null,
      "outputs": []
    },
    {
      "cell_type": "markdown",
      "metadata": {
        "id": "8U7l_DmQX3WZ"
      },
      "source": [
        "* Create a groupby object using titanic over the 'Sex' column: by_sex\n",
        "* Create a groupby object using titanic over the 'Pclass' column: by_class"
      ]
    },
    {
      "cell_type": "code",
      "metadata": {
        "id": "NHXEa2D7X7xz"
      },
      "source": [
        "by_sex = *insert code here*\n",
        "by_class = *insert code here*"
      ],
      "execution_count": null,
      "outputs": []
    },
    {
      "cell_type": "markdown",
      "metadata": {
        "id": "eHF7l-UxYW-J"
      },
      "source": [
        "* Create a variable grouped by Pclass and Survived"
      ]
    },
    {
      "cell_type": "code",
      "metadata": {
        "id": "S5I7w8JLYc6H"
      },
      "source": [
        "count_by_class = *insert code here*\n",
        "\n",
        "# Print count_by_class\n",
        "print(count_by_class)"
      ],
      "execution_count": null,
      "outputs": []
    },
    {
      "cell_type": "markdown",
      "metadata": {
        "id": "wbL2Pxe8Yndq"
      },
      "source": [
        "* Create a variable grouped by Pclass and Survived"
      ]
    },
    {
      "cell_type": "markdown",
      "metadata": {
        "id": "3TqIlcMxYkix"
      },
      "source": [
        ""
      ]
    },
    {
      "cell_type": "code",
      "metadata": {
        "id": "Fp3y2cZJYqjM"
      },
      "source": [
        "count_by_class = *insert code here*\n",
        "\n",
        "# Print count_by_class\n",
        "print(count_by_class)"
      ],
      "execution_count": null,
      "outputs": []
    },
    {
      "cell_type": "markdown",
      "metadata": {
        "id": "41Iu5hpiYuFV"
      },
      "source": [
        "* Aggregate and create a variable by 'Survived' column of 'Pclass', 'Sex'"
      ]
    },
    {
      "cell_type": "code",
      "metadata": {
        "id": "jPz3HviDY0vg"
      },
      "source": [
        "count_mult = *insert code here*\n",
        "\n",
        "# Print count_mult\n",
        "print(count_mult)"
      ],
      "execution_count": null,
      "outputs": []
    },
    {
      "cell_type": "code",
      "metadata": {
        "id": "DT2SG8W-ZGZ6"
      },
      "source": [
        ""
      ],
      "execution_count": null,
      "outputs": []
    }
  ]
}